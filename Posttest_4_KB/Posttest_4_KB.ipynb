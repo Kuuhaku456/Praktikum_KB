{
 "cells": [
  {
   "cell_type": "markdown",
   "id": "3b051bb9-b971-41fa-ab00-a51ce91f94ff",
   "metadata": {},
   "source": [
    "# Posttest 4 KB\n",
    "# FILIPUS ADRIEL MANIK\n",
    "# 2109106096\n",
    "## LINK DATASET => \"https://drive.google.com/file/d/1-cNTyuAW2680uRxNs9b9RG6818pYemnO/view?usp=sharing\""
   ]
  },
  {
   "cell_type": "markdown",
   "id": "466ac5b9-09a1-406c-9124-4931cb8bc33a",
   "metadata": {},
   "source": [
    "## Import Liblary yang akan di pakai untuk posttest kali ini"
   ]
  },
  {
   "cell_type": "code",
   "execution_count": 2,
   "id": "3257cbe3-43d3-4fd1-b6c5-ea3cc3dcd6cc",
   "metadata": {},
   "outputs": [],
   "source": [
    "from sklearn.model_selection import train_test_split\n",
    "from sklearn.datasets import load_iris\n",
    "import pandas as pd\n",
    "from sklearn.preprocessing import StandardScaler\n",
    "from sklearn.preprocessing import MinMaxScaler\n",
    "import numpy as np\n",
    "from sklearn.impute import SimpleImputer"
   ]
  },
  {
   "cell_type": "markdown",
   "id": "ed9fa0cd-b9b8-4af3-b62d-3b392f5b2ebd",
   "metadata": {},
   "source": [
    "## Membaca dataset yang ada"
   ]
  },
  {
   "cell_type": "code",
   "execution_count": 3,
   "id": "2053c020-6ffb-41eb-9bd3-d804264e18b4",
   "metadata": {},
   "outputs": [
    {
     "data": {
      "text/html": [
       "<div>\n",
       "<style scoped>\n",
       "    .dataframe tbody tr th:only-of-type {\n",
       "        vertical-align: middle;\n",
       "    }\n",
       "\n",
       "    .dataframe tbody tr th {\n",
       "        vertical-align: top;\n",
       "    }\n",
       "\n",
       "    .dataframe thead th {\n",
       "        text-align: right;\n",
       "    }\n",
       "</style>\n",
       "<table border=\"1\" class=\"dataframe\">\n",
       "  <thead>\n",
       "    <tr style=\"text-align: right;\">\n",
       "      <th></th>\n",
       "      <th>ID</th>\n",
       "      <th>Name</th>\n",
       "      <th>Category</th>\n",
       "      <th>Subcategory</th>\n",
       "      <th>Country</th>\n",
       "      <th>Launched</th>\n",
       "      <th>Deadline</th>\n",
       "      <th>Goal</th>\n",
       "      <th>Pledged</th>\n",
       "      <th>Backers</th>\n",
       "      <th>State</th>\n",
       "    </tr>\n",
       "  </thead>\n",
       "  <tbody>\n",
       "    <tr>\n",
       "      <th>0</th>\n",
       "      <td>1860890148</td>\n",
       "      <td>Grace Jones Does Not Give A F$#% T-Shirt (limi...</td>\n",
       "      <td>Fashion</td>\n",
       "      <td>Fashion</td>\n",
       "      <td>United States</td>\n",
       "      <td>2009-04-21 21:02:48</td>\n",
       "      <td>2009-05-31</td>\n",
       "      <td>1000</td>\n",
       "      <td>625</td>\n",
       "      <td>30</td>\n",
       "      <td>Failed</td>\n",
       "    </tr>\n",
       "    <tr>\n",
       "      <th>1</th>\n",
       "      <td>709707365</td>\n",
       "      <td>CRYSTAL ANTLERS UNTITLED MOVIE</td>\n",
       "      <td>Film &amp; Video</td>\n",
       "      <td>Shorts</td>\n",
       "      <td>United States</td>\n",
       "      <td>2009-04-23 00:07:53</td>\n",
       "      <td>2009-07-20</td>\n",
       "      <td>80000</td>\n",
       "      <td>22</td>\n",
       "      <td>3</td>\n",
       "      <td>Failed</td>\n",
       "    </tr>\n",
       "    <tr>\n",
       "      <th>2</th>\n",
       "      <td>1703704063</td>\n",
       "      <td>drawing for dollars</td>\n",
       "      <td>Art</td>\n",
       "      <td>Illustration</td>\n",
       "      <td>United States</td>\n",
       "      <td>2009-04-24 21:52:03</td>\n",
       "      <td>2009-05-03</td>\n",
       "      <td>20</td>\n",
       "      <td>35</td>\n",
       "      <td>3</td>\n",
       "      <td>Successful</td>\n",
       "    </tr>\n",
       "    <tr>\n",
       "      <th>3</th>\n",
       "      <td>727286</td>\n",
       "      <td>Offline Wikipedia iPhone app</td>\n",
       "      <td>Technology</td>\n",
       "      <td>Software</td>\n",
       "      <td>United States</td>\n",
       "      <td>2009-04-25 17:36:21</td>\n",
       "      <td>2009-07-14</td>\n",
       "      <td>99</td>\n",
       "      <td>145</td>\n",
       "      <td>25</td>\n",
       "      <td>Successful</td>\n",
       "    </tr>\n",
       "    <tr>\n",
       "      <th>4</th>\n",
       "      <td>1622952265</td>\n",
       "      <td>Pantshirts</td>\n",
       "      <td>Fashion</td>\n",
       "      <td>Fashion</td>\n",
       "      <td>United States</td>\n",
       "      <td>2009-04-27 14:10:39</td>\n",
       "      <td>2009-05-26</td>\n",
       "      <td>1900</td>\n",
       "      <td>387</td>\n",
       "      <td>10</td>\n",
       "      <td>Failed</td>\n",
       "    </tr>\n",
       "    <tr>\n",
       "      <th>...</th>\n",
       "      <td>...</td>\n",
       "      <td>...</td>\n",
       "      <td>...</td>\n",
       "      <td>...</td>\n",
       "      <td>...</td>\n",
       "      <td>...</td>\n",
       "      <td>...</td>\n",
       "      <td>...</td>\n",
       "      <td>...</td>\n",
       "      <td>...</td>\n",
       "      <td>...</td>\n",
       "    </tr>\n",
       "    <tr>\n",
       "      <th>374848</th>\n",
       "      <td>1486845240</td>\n",
       "      <td>Americas Got Talent - Serious MAK</td>\n",
       "      <td>Music</td>\n",
       "      <td>Hip-Hop</td>\n",
       "      <td>United States</td>\n",
       "      <td>2018-01-02 14:13:09</td>\n",
       "      <td>2018-01-16</td>\n",
       "      <td>500</td>\n",
       "      <td>0</td>\n",
       "      <td>0</td>\n",
       "      <td>Live</td>\n",
       "    </tr>\n",
       "    <tr>\n",
       "      <th>374849</th>\n",
       "      <td>974738310</td>\n",
       "      <td>EVO Planner: The World's First Personalized Fl...</td>\n",
       "      <td>Design</td>\n",
       "      <td>Product Design</td>\n",
       "      <td>United States</td>\n",
       "      <td>2018-01-02 14:15:38</td>\n",
       "      <td>2018-02-09</td>\n",
       "      <td>15000</td>\n",
       "      <td>269</td>\n",
       "      <td>8</td>\n",
       "      <td>Live</td>\n",
       "    </tr>\n",
       "    <tr>\n",
       "      <th>374850</th>\n",
       "      <td>2106246194</td>\n",
       "      <td>Help save La Gattara, Arizona's first Cat Cafe!</td>\n",
       "      <td>Food</td>\n",
       "      <td>Food</td>\n",
       "      <td>United States</td>\n",
       "      <td>2018-01-02 14:17:46</td>\n",
       "      <td>2018-01-16</td>\n",
       "      <td>10000</td>\n",
       "      <td>165</td>\n",
       "      <td>3</td>\n",
       "      <td>Live</td>\n",
       "    </tr>\n",
       "    <tr>\n",
       "      <th>374851</th>\n",
       "      <td>1830173355</td>\n",
       "      <td>Digital Dagger Coin</td>\n",
       "      <td>Art</td>\n",
       "      <td>Art</td>\n",
       "      <td>United States</td>\n",
       "      <td>2018-01-02 14:38:17</td>\n",
       "      <td>2018-02-01</td>\n",
       "      <td>650</td>\n",
       "      <td>7</td>\n",
       "      <td>1</td>\n",
       "      <td>Live</td>\n",
       "    </tr>\n",
       "    <tr>\n",
       "      <th>374852</th>\n",
       "      <td>1339173863</td>\n",
       "      <td>Spirits of the Forest</td>\n",
       "      <td>Games</td>\n",
       "      <td>Tabletop Games</td>\n",
       "      <td>Spain</td>\n",
       "      <td>2018-01-02 15:02:31</td>\n",
       "      <td>2018-01-26</td>\n",
       "      <td>24274</td>\n",
       "      <td>4483</td>\n",
       "      <td>82</td>\n",
       "      <td>Live</td>\n",
       "    </tr>\n",
       "  </tbody>\n",
       "</table>\n",
       "<p>374853 rows × 11 columns</p>\n",
       "</div>"
      ],
      "text/plain": [
       "                ID                                               Name  \\\n",
       "0       1860890148  Grace Jones Does Not Give A F$#% T-Shirt (limi...   \n",
       "1        709707365                     CRYSTAL ANTLERS UNTITLED MOVIE   \n",
       "2       1703704063                                drawing for dollars   \n",
       "3           727286                       Offline Wikipedia iPhone app   \n",
       "4       1622952265                                         Pantshirts   \n",
       "...            ...                                                ...   \n",
       "374848  1486845240                  Americas Got Talent - Serious MAK   \n",
       "374849   974738310  EVO Planner: The World's First Personalized Fl...   \n",
       "374850  2106246194    Help save La Gattara, Arizona's first Cat Cafe!   \n",
       "374851  1830173355                                Digital Dagger Coin   \n",
       "374852  1339173863                              Spirits of the Forest   \n",
       "\n",
       "            Category     Subcategory        Country             Launched  \\\n",
       "0            Fashion         Fashion  United States  2009-04-21 21:02:48   \n",
       "1       Film & Video          Shorts  United States  2009-04-23 00:07:53   \n",
       "2                Art    Illustration  United States  2009-04-24 21:52:03   \n",
       "3         Technology        Software  United States  2009-04-25 17:36:21   \n",
       "4            Fashion         Fashion  United States  2009-04-27 14:10:39   \n",
       "...              ...             ...            ...                  ...   \n",
       "374848         Music         Hip-Hop  United States  2018-01-02 14:13:09   \n",
       "374849        Design  Product Design  United States  2018-01-02 14:15:38   \n",
       "374850          Food            Food  United States  2018-01-02 14:17:46   \n",
       "374851           Art             Art  United States  2018-01-02 14:38:17   \n",
       "374852         Games  Tabletop Games          Spain  2018-01-02 15:02:31   \n",
       "\n",
       "          Deadline   Goal  Pledged  Backers       State  \n",
       "0       2009-05-31   1000      625       30      Failed  \n",
       "1       2009-07-20  80000       22        3      Failed  \n",
       "2       2009-05-03     20       35        3  Successful  \n",
       "3       2009-07-14     99      145       25  Successful  \n",
       "4       2009-05-26   1900      387       10      Failed  \n",
       "...            ...    ...      ...      ...         ...  \n",
       "374848  2018-01-16    500        0        0        Live  \n",
       "374849  2018-02-09  15000      269        8        Live  \n",
       "374850  2018-01-16  10000      165        3        Live  \n",
       "374851  2018-02-01    650        7        1        Live  \n",
       "374852  2018-01-26  24274     4483       82        Live  \n",
       "\n",
       "[374853 rows x 11 columns]"
      ]
     },
     "execution_count": 3,
     "metadata": {},
     "output_type": "execute_result"
    }
   ],
   "source": [
    "df = pd.read_csv(\"kickstarter_projects.csv\")\n",
    "df"
   ]
  },
  {
   "cell_type": "markdown",
   "id": "fb8449e7-77cb-4b36-9e84-184dd97a47a7",
   "metadata": {},
   "source": [
    "## Membagi dataset menjadi training set dan testing set dengan proporsi 70:30 menggunakan train_size, dan test_size"
   ]
  },
  {
   "cell_type": "code",
   "execution_count": 4,
   "id": "372a4a4f-5c57-496e-b998-8671e4fd9200",
   "metadata": {},
   "outputs": [],
   "source": [
    "x = df.iloc[:, :-1] # feature\n",
    "y = df.iloc[:, -1] # target\n",
    "x_train, x_test, y_train, y_test = train_test_split(x, y, test_size=0.3, train_size=0.7)"
   ]
  },
  {
   "cell_type": "markdown",
   "id": "434476d9-9661-41c6-bfb5-3728d2f57794",
   "metadata": {},
   "source": [
    "## Print jumlah row dan kolom dari x train, x test, y train, y test"
   ]
  },
  {
   "cell_type": "code",
   "execution_count": 5,
   "id": "db355709-44f1-4d64-b8da-de18d19376f9",
   "metadata": {},
   "outputs": [
    {
     "name": "stdout",
     "output_type": "stream",
     "text": [
      "Ini x train =>  (262397, 10)\n",
      "Ini x test  =>  (112456, 10)\n",
      "Ini y train =>  (262397,)\n",
      "Ini y test  =>  (112456,)\n"
     ]
    }
   ],
   "source": [
    "print('Ini x train => ', x_train.shape)\n",
    "print('Ini x test  => ', x_test.shape)\n",
    "print('Ini y train => ', y_train.shape)\n",
    "print('Ini y test  => ', y_test.shape)"
   ]
  },
  {
   "cell_type": "markdown",
   "id": "750fa885-2e01-4536-a458-85e7987d854d",
   "metadata": {},
   "source": [
    "## Menampilkan isi dari X train"
   ]
  },
  {
   "cell_type": "code",
   "execution_count": 6,
   "id": "3665a6f2-f724-4b14-a622-cc7ce4e65b18",
   "metadata": {},
   "outputs": [
    {
     "data": {
      "text/html": [
       "<div>\n",
       "<style scoped>\n",
       "    .dataframe tbody tr th:only-of-type {\n",
       "        vertical-align: middle;\n",
       "    }\n",
       "\n",
       "    .dataframe tbody tr th {\n",
       "        vertical-align: top;\n",
       "    }\n",
       "\n",
       "    .dataframe thead th {\n",
       "        text-align: right;\n",
       "    }\n",
       "</style>\n",
       "<table border=\"1\" class=\"dataframe\">\n",
       "  <thead>\n",
       "    <tr style=\"text-align: right;\">\n",
       "      <th></th>\n",
       "      <th>ID</th>\n",
       "      <th>Name</th>\n",
       "      <th>Category</th>\n",
       "      <th>Subcategory</th>\n",
       "      <th>Country</th>\n",
       "      <th>Launched</th>\n",
       "      <th>Deadline</th>\n",
       "      <th>Goal</th>\n",
       "      <th>Pledged</th>\n",
       "      <th>Backers</th>\n",
       "    </tr>\n",
       "  </thead>\n",
       "  <tbody>\n",
       "    <tr>\n",
       "      <th>166616</th>\n",
       "      <td>206597355</td>\n",
       "      <td>Soul Much More from Scratch II</td>\n",
       "      <td>Food</td>\n",
       "      <td>Cookbooks</td>\n",
       "      <td>United States</td>\n",
       "      <td>2014-08-25 19:24:02</td>\n",
       "      <td>2014-09-24</td>\n",
       "      <td>500</td>\n",
       "      <td>193</td>\n",
       "      <td>8</td>\n",
       "    </tr>\n",
       "    <tr>\n",
       "      <th>62032</th>\n",
       "      <td>1086752527</td>\n",
       "      <td>We The People Create a Self Sustaining Garden</td>\n",
       "      <td>Food</td>\n",
       "      <td>Food</td>\n",
       "      <td>United States</td>\n",
       "      <td>2012-07-17 22:10:02</td>\n",
       "      <td>2012-08-16</td>\n",
       "      <td>2000</td>\n",
       "      <td>137</td>\n",
       "      <td>7</td>\n",
       "    </tr>\n",
       "    <tr>\n",
       "      <th>35002</th>\n",
       "      <td>1633242685</td>\n",
       "      <td>You Will Not Be Forgotten</td>\n",
       "      <td>Publishing</td>\n",
       "      <td>Nonfiction</td>\n",
       "      <td>United States</td>\n",
       "      <td>2011-11-19 14:25:33</td>\n",
       "      <td>2011-12-19</td>\n",
       "      <td>7500</td>\n",
       "      <td>7500</td>\n",
       "      <td>60</td>\n",
       "    </tr>\n",
       "    <tr>\n",
       "      <th>73573</th>\n",
       "      <td>1850281668</td>\n",
       "      <td>The Mighty Green Vaqueros</td>\n",
       "      <td>Film &amp; Video</td>\n",
       "      <td>Documentary</td>\n",
       "      <td>United States</td>\n",
       "      <td>2012-10-31 01:51:08</td>\n",
       "      <td>2012-11-30</td>\n",
       "      <td>1000</td>\n",
       "      <td>1796</td>\n",
       "      <td>36</td>\n",
       "    </tr>\n",
       "    <tr>\n",
       "      <th>69785</th>\n",
       "      <td>1628098418</td>\n",
       "      <td>Art Exhibition \"East and West: The Hammered Me...</td>\n",
       "      <td>Art</td>\n",
       "      <td>Art</td>\n",
       "      <td>United States</td>\n",
       "      <td>2012-09-25 05:21:14</td>\n",
       "      <td>2012-10-25</td>\n",
       "      <td>3000</td>\n",
       "      <td>7696</td>\n",
       "      <td>98</td>\n",
       "    </tr>\n",
       "    <tr>\n",
       "      <th>...</th>\n",
       "      <td>...</td>\n",
       "      <td>...</td>\n",
       "      <td>...</td>\n",
       "      <td>...</td>\n",
       "      <td>...</td>\n",
       "      <td>...</td>\n",
       "      <td>...</td>\n",
       "      <td>...</td>\n",
       "      <td>...</td>\n",
       "      <td>...</td>\n",
       "    </tr>\n",
       "    <tr>\n",
       "      <th>331094</th>\n",
       "      <td>327628757</td>\n",
       "      <td>Reflexbox 2.0 : Innovative Multimedial Wireles...</td>\n",
       "      <td>Technology</td>\n",
       "      <td>Gadgets</td>\n",
       "      <td>Italy</td>\n",
       "      <td>2017-03-01 11:50:15</td>\n",
       "      <td>2017-03-29</td>\n",
       "      <td>5345</td>\n",
       "      <td>31006</td>\n",
       "      <td>418</td>\n",
       "    </tr>\n",
       "    <tr>\n",
       "      <th>335489</th>\n",
       "      <td>581451577</td>\n",
       "      <td>Angels Of Our Past</td>\n",
       "      <td>Film &amp; Video</td>\n",
       "      <td>Film &amp; Video</td>\n",
       "      <td>United Kingdom</td>\n",
       "      <td>2017-03-28 10:46:24</td>\n",
       "      <td>2017-04-27</td>\n",
       "      <td>15527</td>\n",
       "      <td>16220</td>\n",
       "      <td>96</td>\n",
       "    </tr>\n",
       "    <tr>\n",
       "      <th>246752</th>\n",
       "      <td>1373315335</td>\n",
       "      <td>Its More Than Just Music</td>\n",
       "      <td>Music</td>\n",
       "      <td>Hip-Hop</td>\n",
       "      <td>United States</td>\n",
       "      <td>2015-09-10 03:57:47</td>\n",
       "      <td>2015-11-07</td>\n",
       "      <td>3000</td>\n",
       "      <td>3599</td>\n",
       "      <td>80</td>\n",
       "    </tr>\n",
       "    <tr>\n",
       "      <th>50900</th>\n",
       "      <td>1370687836</td>\n",
       "      <td>Essex Street Academy Theatre Arts</td>\n",
       "      <td>Theater</td>\n",
       "      <td>Theater</td>\n",
       "      <td>United States</td>\n",
       "      <td>2012-04-20 00:25:18</td>\n",
       "      <td>2012-04-30</td>\n",
       "      <td>500</td>\n",
       "      <td>635</td>\n",
       "      <td>15</td>\n",
       "    </tr>\n",
       "    <tr>\n",
       "      <th>58599</th>\n",
       "      <td>263537779</td>\n",
       "      <td>Jiggy Project (Canceled)</td>\n",
       "      <td>Games</td>\n",
       "      <td>Video Games</td>\n",
       "      <td>United States</td>\n",
       "      <td>2012-06-20 03:30:28</td>\n",
       "      <td>2012-07-20</td>\n",
       "      <td>900</td>\n",
       "      <td>0</td>\n",
       "      <td>0</td>\n",
       "    </tr>\n",
       "  </tbody>\n",
       "</table>\n",
       "<p>262397 rows × 10 columns</p>\n",
       "</div>"
      ],
      "text/plain": [
       "                ID                                               Name  \\\n",
       "166616   206597355                     Soul Much More from Scratch II   \n",
       "62032   1086752527      We The People Create a Self Sustaining Garden   \n",
       "35002   1633242685                          You Will Not Be Forgotten   \n",
       "73573   1850281668                          The Mighty Green Vaqueros   \n",
       "69785   1628098418  Art Exhibition \"East and West: The Hammered Me...   \n",
       "...            ...                                                ...   \n",
       "331094   327628757  Reflexbox 2.0 : Innovative Multimedial Wireles...   \n",
       "335489   581451577                                 Angels Of Our Past   \n",
       "246752  1373315335                           Its More Than Just Music   \n",
       "50900   1370687836                  Essex Street Academy Theatre Arts   \n",
       "58599    263537779                           Jiggy Project (Canceled)   \n",
       "\n",
       "            Category   Subcategory         Country             Launched  \\\n",
       "166616          Food     Cookbooks   United States  2014-08-25 19:24:02   \n",
       "62032           Food          Food   United States  2012-07-17 22:10:02   \n",
       "35002     Publishing    Nonfiction   United States  2011-11-19 14:25:33   \n",
       "73573   Film & Video   Documentary   United States  2012-10-31 01:51:08   \n",
       "69785            Art           Art   United States  2012-09-25 05:21:14   \n",
       "...              ...           ...             ...                  ...   \n",
       "331094    Technology       Gadgets           Italy  2017-03-01 11:50:15   \n",
       "335489  Film & Video  Film & Video  United Kingdom  2017-03-28 10:46:24   \n",
       "246752         Music       Hip-Hop   United States  2015-09-10 03:57:47   \n",
       "50900        Theater       Theater   United States  2012-04-20 00:25:18   \n",
       "58599          Games   Video Games   United States  2012-06-20 03:30:28   \n",
       "\n",
       "          Deadline   Goal  Pledged  Backers  \n",
       "166616  2014-09-24    500      193        8  \n",
       "62032   2012-08-16   2000      137        7  \n",
       "35002   2011-12-19   7500     7500       60  \n",
       "73573   2012-11-30   1000     1796       36  \n",
       "69785   2012-10-25   3000     7696       98  \n",
       "...            ...    ...      ...      ...  \n",
       "331094  2017-03-29   5345    31006      418  \n",
       "335489  2017-04-27  15527    16220       96  \n",
       "246752  2015-11-07   3000     3599       80  \n",
       "50900   2012-04-30    500      635       15  \n",
       "58599   2012-07-20    900        0        0  \n",
       "\n",
       "[262397 rows x 10 columns]"
      ]
     },
     "execution_count": 6,
     "metadata": {},
     "output_type": "execute_result"
    }
   ],
   "source": [
    "x_train"
   ]
  },
  {
   "cell_type": "markdown",
   "id": "c3eaad93-397e-44aa-87f0-63de60a6a6ae",
   "metadata": {},
   "source": [
    "## Menampilkan isi dari y train"
   ]
  },
  {
   "cell_type": "code",
   "execution_count": 7,
   "id": "1bcd3e57-ef97-49c6-81ff-1ba04042a733",
   "metadata": {},
   "outputs": [
    {
     "data": {
      "text/plain": [
       "166616        Failed\n",
       "62032         Failed\n",
       "35002     Successful\n",
       "73573     Successful\n",
       "69785     Successful\n",
       "             ...    \n",
       "331094    Successful\n",
       "335489    Successful\n",
       "246752    Successful\n",
       "50900     Successful\n",
       "58599       Canceled\n",
       "Name: State, Length: 262397, dtype: object"
      ]
     },
     "execution_count": 7,
     "metadata": {},
     "output_type": "execute_result"
    }
   ],
   "source": [
    "y_train"
   ]
  },
  {
   "cell_type": "markdown",
   "id": "280e36a6-3e52-42ef-91d7-9688ccc1ed6f",
   "metadata": {},
   "source": [
    "## Menampilkan isi dari X test"
   ]
  },
  {
   "cell_type": "code",
   "execution_count": 8,
   "id": "7033ca9f-e331-4e43-9ad8-80a4a33f42db",
   "metadata": {},
   "outputs": [
    {
     "data": {
      "text/html": [
       "<div>\n",
       "<style scoped>\n",
       "    .dataframe tbody tr th:only-of-type {\n",
       "        vertical-align: middle;\n",
       "    }\n",
       "\n",
       "    .dataframe tbody tr th {\n",
       "        vertical-align: top;\n",
       "    }\n",
       "\n",
       "    .dataframe thead th {\n",
       "        text-align: right;\n",
       "    }\n",
       "</style>\n",
       "<table border=\"1\" class=\"dataframe\">\n",
       "  <thead>\n",
       "    <tr style=\"text-align: right;\">\n",
       "      <th></th>\n",
       "      <th>ID</th>\n",
       "      <th>Name</th>\n",
       "      <th>Category</th>\n",
       "      <th>Subcategory</th>\n",
       "      <th>Country</th>\n",
       "      <th>Launched</th>\n",
       "      <th>Deadline</th>\n",
       "      <th>Goal</th>\n",
       "      <th>Pledged</th>\n",
       "      <th>Backers</th>\n",
       "    </tr>\n",
       "  </thead>\n",
       "  <tbody>\n",
       "    <tr>\n",
       "      <th>291763</th>\n",
       "      <td>2093025654</td>\n",
       "      <td>The Foldable Fitted Sheet</td>\n",
       "      <td>Design</td>\n",
       "      <td>Product Design</td>\n",
       "      <td>United States</td>\n",
       "      <td>2016-05-31 19:04:57</td>\n",
       "      <td>2016-06-30</td>\n",
       "      <td>22500</td>\n",
       "      <td>2255</td>\n",
       "      <td>20</td>\n",
       "    </tr>\n",
       "    <tr>\n",
       "      <th>137326</th>\n",
       "      <td>137563694</td>\n",
       "      <td>Just Another Sheep- A Graphic Novel</td>\n",
       "      <td>Comics</td>\n",
       "      <td>Comic Books</td>\n",
       "      <td>United States</td>\n",
       "      <td>2014-04-09 19:20:19</td>\n",
       "      <td>2014-05-09</td>\n",
       "      <td>5000</td>\n",
       "      <td>5949</td>\n",
       "      <td>147</td>\n",
       "    </tr>\n",
       "    <tr>\n",
       "      <th>140330</th>\n",
       "      <td>1085584922</td>\n",
       "      <td>[debut]'s new EP, \"Postcards from Berlin\" feat...</td>\n",
       "      <td>Music</td>\n",
       "      <td>Electronic Music</td>\n",
       "      <td>United States</td>\n",
       "      <td>2014-05-01 03:09:30</td>\n",
       "      <td>2014-05-31</td>\n",
       "      <td>7500</td>\n",
       "      <td>10030</td>\n",
       "      <td>78</td>\n",
       "    </tr>\n",
       "    <tr>\n",
       "      <th>137887</th>\n",
       "      <td>549110617</td>\n",
       "      <td>Augmented Reality / 3D Designed to Create Memo...</td>\n",
       "      <td>Games</td>\n",
       "      <td>Games</td>\n",
       "      <td>United States</td>\n",
       "      <td>2014-04-14 18:14:49</td>\n",
       "      <td>2014-06-13</td>\n",
       "      <td>15000</td>\n",
       "      <td>2</td>\n",
       "      <td>2</td>\n",
       "    </tr>\n",
       "    <tr>\n",
       "      <th>138567</th>\n",
       "      <td>908071509</td>\n",
       "      <td>Transform a wood shack @Elephant into a bar &amp; ...</td>\n",
       "      <td>Food</td>\n",
       "      <td>Food</td>\n",
       "      <td>United Kingdom</td>\n",
       "      <td>2014-04-18 09:30:14</td>\n",
       "      <td>2014-05-09</td>\n",
       "      <td>37098</td>\n",
       "      <td>4985</td>\n",
       "      <td>63</td>\n",
       "    </tr>\n",
       "    <tr>\n",
       "      <th>...</th>\n",
       "      <td>...</td>\n",
       "      <td>...</td>\n",
       "      <td>...</td>\n",
       "      <td>...</td>\n",
       "      <td>...</td>\n",
       "      <td>...</td>\n",
       "      <td>...</td>\n",
       "      <td>...</td>\n",
       "      <td>...</td>\n",
       "      <td>...</td>\n",
       "    </tr>\n",
       "    <tr>\n",
       "      <th>362131</th>\n",
       "      <td>1369353784</td>\n",
       "      <td>Choosing Happy- Facts, Hacks, and Action Steps...</td>\n",
       "      <td>Publishing</td>\n",
       "      <td>Nonfiction</td>\n",
       "      <td>Australia</td>\n",
       "      <td>2017-09-27 01:59:43</td>\n",
       "      <td>2017-10-27</td>\n",
       "      <td>6715</td>\n",
       "      <td>1123</td>\n",
       "      <td>50</td>\n",
       "    </tr>\n",
       "    <tr>\n",
       "      <th>369691</th>\n",
       "      <td>1810553416</td>\n",
       "      <td>Luna - A Pen To Illuminate The Night</td>\n",
       "      <td>Design</td>\n",
       "      <td>Product Design</td>\n",
       "      <td>United States</td>\n",
       "      <td>2017-11-15 00:17:26</td>\n",
       "      <td>2017-12-14</td>\n",
       "      <td>200</td>\n",
       "      <td>1340</td>\n",
       "      <td>25</td>\n",
       "    </tr>\n",
       "    <tr>\n",
       "      <th>265464</th>\n",
       "      <td>1077775631</td>\n",
       "      <td>Trend iT - A phone based research study medium</td>\n",
       "      <td>Technology</td>\n",
       "      <td>Apps</td>\n",
       "      <td>United States</td>\n",
       "      <td>2015-12-26 07:03:47</td>\n",
       "      <td>2016-01-25</td>\n",
       "      <td>50000</td>\n",
       "      <td>40</td>\n",
       "      <td>2</td>\n",
       "    </tr>\n",
       "    <tr>\n",
       "      <th>11410</th>\n",
       "      <td>2069428275</td>\n",
       "      <td>Kill the Reflection - Raise $2000 for studio time</td>\n",
       "      <td>Music</td>\n",
       "      <td>Indie Rock</td>\n",
       "      <td>United States</td>\n",
       "      <td>2010-12-18 03:04:09</td>\n",
       "      <td>2011-01-17</td>\n",
       "      <td>2000</td>\n",
       "      <td>1</td>\n",
       "      <td>1</td>\n",
       "    </tr>\n",
       "    <tr>\n",
       "      <th>93455</th>\n",
       "      <td>1126853553</td>\n",
       "      <td>I Am Alone the Movie</td>\n",
       "      <td>Film &amp; Video</td>\n",
       "      <td>Narrative Film</td>\n",
       "      <td>United States</td>\n",
       "      <td>2013-04-29 05:46:19</td>\n",
       "      <td>2013-05-29</td>\n",
       "      <td>25000</td>\n",
       "      <td>27390</td>\n",
       "      <td>173</td>\n",
       "    </tr>\n",
       "  </tbody>\n",
       "</table>\n",
       "<p>112456 rows × 10 columns</p>\n",
       "</div>"
      ],
      "text/plain": [
       "                ID                                               Name  \\\n",
       "291763  2093025654                          The Foldable Fitted Sheet   \n",
       "137326   137563694                Just Another Sheep- A Graphic Novel   \n",
       "140330  1085584922  [debut]'s new EP, \"Postcards from Berlin\" feat...   \n",
       "137887   549110617  Augmented Reality / 3D Designed to Create Memo...   \n",
       "138567   908071509  Transform a wood shack @Elephant into a bar & ...   \n",
       "...            ...                                                ...   \n",
       "362131  1369353784  Choosing Happy- Facts, Hacks, and Action Steps...   \n",
       "369691  1810553416               Luna - A Pen To Illuminate The Night   \n",
       "265464  1077775631     Trend iT - A phone based research study medium   \n",
       "11410   2069428275  Kill the Reflection - Raise $2000 for studio time   \n",
       "93455   1126853553                               I Am Alone the Movie   \n",
       "\n",
       "            Category       Subcategory         Country             Launched  \\\n",
       "291763        Design    Product Design   United States  2016-05-31 19:04:57   \n",
       "137326        Comics       Comic Books   United States  2014-04-09 19:20:19   \n",
       "140330         Music  Electronic Music   United States  2014-05-01 03:09:30   \n",
       "137887         Games             Games   United States  2014-04-14 18:14:49   \n",
       "138567          Food              Food  United Kingdom  2014-04-18 09:30:14   \n",
       "...              ...               ...             ...                  ...   \n",
       "362131    Publishing        Nonfiction       Australia  2017-09-27 01:59:43   \n",
       "369691        Design    Product Design   United States  2017-11-15 00:17:26   \n",
       "265464    Technology              Apps   United States  2015-12-26 07:03:47   \n",
       "11410          Music        Indie Rock   United States  2010-12-18 03:04:09   \n",
       "93455   Film & Video    Narrative Film   United States  2013-04-29 05:46:19   \n",
       "\n",
       "          Deadline   Goal  Pledged  Backers  \n",
       "291763  2016-06-30  22500     2255       20  \n",
       "137326  2014-05-09   5000     5949      147  \n",
       "140330  2014-05-31   7500    10030       78  \n",
       "137887  2014-06-13  15000        2        2  \n",
       "138567  2014-05-09  37098     4985       63  \n",
       "...            ...    ...      ...      ...  \n",
       "362131  2017-10-27   6715     1123       50  \n",
       "369691  2017-12-14    200     1340       25  \n",
       "265464  2016-01-25  50000       40        2  \n",
       "11410   2011-01-17   2000        1        1  \n",
       "93455   2013-05-29  25000    27390      173  \n",
       "\n",
       "[112456 rows x 10 columns]"
      ]
     },
     "execution_count": 8,
     "metadata": {},
     "output_type": "execute_result"
    }
   ],
   "source": [
    "x_test"
   ]
  },
  {
   "cell_type": "markdown",
   "id": "9478340f-9a18-4d6d-afdc-a2469439d76e",
   "metadata": {},
   "source": [
    "## Menampilkan isi dari y test"
   ]
  },
  {
   "cell_type": "code",
   "execution_count": 9,
   "id": "8eec5f3b-2f2e-406c-b93a-145ee595d67d",
   "metadata": {},
   "outputs": [
    {
     "data": {
      "text/plain": [
       "291763        Failed\n",
       "137326    Successful\n",
       "140330    Successful\n",
       "137887      Canceled\n",
       "138567        Failed\n",
       "             ...    \n",
       "362131        Failed\n",
       "369691    Successful\n",
       "265464        Failed\n",
       "11410         Failed\n",
       "93455     Successful\n",
       "Name: State, Length: 112456, dtype: object"
      ]
     },
     "execution_count": 9,
     "metadata": {},
     "output_type": "execute_result"
    }
   ],
   "source": [
    "y_test"
   ]
  },
  {
   "cell_type": "markdown",
   "id": "a5f4f3ee-bba8-41d8-82c3-a54ac4b38883",
   "metadata": {},
   "source": [
    "## normalisasi data pada salah satu attribute menggunakan Min Max scaler"
   ]
  },
  {
   "cell_type": "code",
   "execution_count": 11,
   "id": "967938c4-4085-45e1-9173-82ea3ec8d449",
   "metadata": {},
   "outputs": [],
   "source": [
    "dataset =  df.copy()\n",
    "Scaler = MinMaxScaler()\n",
    "Normalized_Data = Scaler.fit_transform(dataset[['Backers']])\n",
    "dataset['Backers'] = Normalized_Data"
   ]
  },
  {
   "cell_type": "code",
   "execution_count": 12,
   "id": "bb482f87-c743-474d-9b55-4290f8bd8197",
   "metadata": {},
   "outputs": [
    {
     "name": "stdout",
     "output_type": "stream",
     "text": [
      "sebelum dinormalisasi: \n",
      "count    374853.000000\n",
      "mean        106.690359\n",
      "std         911.718520\n",
      "min           0.000000\n",
      "25%           2.000000\n",
      "50%          12.000000\n",
      "75%          57.000000\n",
      "max      219382.000000\n",
      "Name: Backers, dtype: float64\n",
      "\n",
      "\n",
      "setelah dinormalisasi: \n",
      "count    374853.000000\n",
      "mean          0.000486\n",
      "std           0.004156\n",
      "min           0.000000\n",
      "25%           0.000009\n",
      "50%           0.000055\n",
      "75%           0.000260\n",
      "max           1.000000\n",
      "Name: Backers, dtype: float64\n"
     ]
    }
   ],
   "source": [
    "print(\"sebelum dinormalisasi: \")\n",
    "print(df['Backers'].describe())\n",
    "print('\\n')\n",
    "print(\"setelah dinormalisasi: \")\n",
    "print(dataset['Backers'].describe())"
   ]
  },
  {
   "cell_type": "markdown",
   "id": "21aaa81c-93ce-472a-b578-a63b9db0515d",
   "metadata": {},
   "source": [
    "## Standarisasi "
   ]
  },
  {
   "cell_type": "code",
   "execution_count": 13,
   "id": "e4c98373-0789-409a-ae59-a339af1777d3",
   "metadata": {},
   "outputs": [],
   "source": [
    "dataset1 =  df.copy()\n",
    "Scaler = StandardScaler()\n",
    "Scaled_Data = Scaler.fit_transform(dataset[['Backers']])\n",
    "dataset['Backers'] = Scaled_Data"
   ]
  },
  {
   "cell_type": "markdown",
   "id": "3c6d0fdb-0a34-4cae-a5d8-a4b80b3a063b",
   "metadata": {},
   "source": [
    "## Menampilkan hasil dari standar deviasi sebelum di standarisasi, dan setelah di standarisasi"
   ]
  },
  {
   "cell_type": "code",
   "execution_count": 14,
   "id": "4eecf773-cbbe-4784-b1c8-6dbfbd162a6c",
   "metadata": {},
   "outputs": [
    {
     "name": "stdout",
     "output_type": "stream",
     "text": [
      "sebelum dinormalisasi : \n",
      "Nilai Standar deviasi >>  911.717304149336\n",
      "\n",
      "\n",
      "setelah distandarisasi : \n",
      "Nilai Standar deviasi >>  911.717304149336\n"
     ]
    }
   ],
   "source": [
    "print(\"sebelum dinormalisasi : \")\n",
    "print(\"Nilai Standar deviasi >> \", np.std(df['Backers']))\n",
    "print('\\n')\n",
    "print(\"setelah distandarisasi : \")\n",
    "print(\"Nilai Standar deviasi >> \", np.std(dataset1['Backers']))"
   ]
  },
  {
   "cell_type": "markdown",
   "id": "c92653ab-a2db-4b44-b6f3-39818f8dd947",
   "metadata": {},
   "source": [
    "# Data cleaning"
   ]
  },
  {
   "cell_type": "markdown",
   "id": "8758652b-c95d-40e8-b035-c33d516d9191",
   "metadata": {},
   "source": [
    "### 1.  Mengubah tipe data goal dari Object menjadi Float 64\n",
    "### 2.  Membuat kolom Goal, Pledged, dan Country menjadi Null menggunakan np.nan\n",
    "### 3.  Menampilkan banyak nya nilai null pada kolom Goal, Pledged, dan Country menggunakan :\n",
    "###     (\"dataset['Kolom'].isna().sum()\")"
   ]
  },
  {
   "cell_type": "code",
   "execution_count": 15,
   "id": "a146c9d1-5552-44c1-a5d7-2b69857d04d6",
   "metadata": {},
   "outputs": [
    {
     "name": "stdout",
     "output_type": "stream",
     "text": [
      "\n",
      "Jumlah nilai null pada Setiap kolom sebelum cleaning : \n"
     ]
    },
    {
     "data": {
      "text/plain": [
       "ID             0\n",
       "Name           0\n",
       "Category       0\n",
       "Subcategory    0\n",
       "Country        0\n",
       "Launched       0\n",
       "Deadline       0\n",
       "Goal           0\n",
       "Pledged        0\n",
       "Backers        0\n",
       "State          0\n",
       "dtype: int64"
      ]
     },
     "execution_count": 15,
     "metadata": {},
     "output_type": "execute_result"
    }
   ],
   "source": [
    "dataset2 = df.copy()\n",
    "dataset2['Goal'] = dataset2['Pledged'].astype('int64')\n",
    "print(\"\\nJumlah nilai null pada Setiap kolom sebelum cleaning : \")\n",
    "dataset2.isna().sum()"
   ]
  },
  {
   "cell_type": "markdown",
   "id": "1dad7bdb-a4b1-4cbc-95ac-7ada1121828f",
   "metadata": {},
   "source": [
    "## Mengatasi nilai null pada kolom Backers yang bertipe bilangan bulat (integer)"
   ]
  },
  {
   "cell_type": "markdown",
   "id": "cdfe1725-c7c3-40e3-9800-fdac16b3ce74",
   "metadata": {},
   "source": [
    "### Metode Median"
   ]
  },
  {
   "cell_type": "code",
   "execution_count": 16,
   "id": "5d1d3058-9e8a-4961-beea-6d41930f9178",
   "metadata": {},
   "outputs": [
    {
     "name": "stdout",
     "output_type": "stream",
     "text": [
      "Jumlah Nilai Null pada kolom  Backers sebelum >> 174853\n",
      "\n",
      "Jumlah Nilai Null pada kolom  Backers Setelah >> 0\n"
     ]
    }
   ],
   "source": [
    "dataset2.loc[200000:, 'Backers'] = np.nan\n",
    "\n",
    "print(\"Jumlah Nilai Null pada kolom  Backers sebelum >>\", dataset2['Backers'].isna().sum())\n",
    "\n",
    "dataset2['Backers'].fillna(dataset2['Backers'].median(), inplace=True)\n",
    "\n",
    "print(\"\\nJumlah Nilai Null pada kolom  Backers Setelah >>\", dataset2['Backers'].isna().sum())"
   ]
  },
  {
   "cell_type": "markdown",
   "id": "a7b99df5-dff4-4cd9-a404-8835f570a2d5",
   "metadata": {},
   "source": [
    "### Metode Modus"
   ]
  },
  {
   "cell_type": "code",
   "execution_count": 17,
   "id": "eaad6969-0acf-49d6-8ce6-b77c45b6c254",
   "metadata": {},
   "outputs": [
    {
     "name": "stdout",
     "output_type": "stream",
     "text": [
      "Jumlah Nilai Null pada kolom  Backers sebelum >> 174853\n",
      "\n",
      "Jumlah Nilai Null pada kolom  Backers setelah >> 0\n"
     ]
    }
   ],
   "source": [
    "dataset2.loc[200000:, 'Backers'] = np.nan\n",
    "\n",
    "print(\"Jumlah Nilai Null pada kolom  Backers sebelum >>\", dataset2['Backers'].isna().sum())\n",
    "\n",
    "dataset2['Backers'].fillna(dataset2['Backers'].mode()[0], inplace=True)\n",
    "\n",
    "print(\"\\nJumlah Nilai Null pada kolom  Backers setelah >>\", dataset2['Backers'].isna().sum())"
   ]
  },
  {
   "cell_type": "markdown",
   "id": "17596f90-4810-44b3-97e1-27f898470514",
   "metadata": {},
   "source": [
    "### Metode Mean"
   ]
  },
  {
   "cell_type": "code",
   "execution_count": 18,
   "id": "065d028a-388d-4518-816a-00f600cca3b0",
   "metadata": {},
   "outputs": [
    {
     "name": "stdout",
     "output_type": "stream",
     "text": [
      "Jumlah Nilai Null pada kolom  Backers sebelum >> 174853\n",
      "\n",
      "Jumlah Nilai Null pada kolom  Backers setelah >> 0\n"
     ]
    }
   ],
   "source": [
    "dataset2.loc[200000:, 'Backers'] = np.nan\n",
    "\n",
    "print(\"Jumlah Nilai Null pada kolom  Backers sebelum >>\", dataset2['Backers'].isna().sum())\n",
    "\n",
    "dataset2['Backers'].fillna(dataset2['Backers'].mean(), inplace=True)\n",
    "\n",
    "print(\"\\nJumlah Nilai Null pada kolom  Backers setelah >>\", dataset2['Backers'].isna().sum())"
   ]
  },
  {
   "cell_type": "markdown",
   "id": "ebc80462-e924-4aa5-b050-7994f9b92665",
   "metadata": {},
   "source": [
    "## Mengatasi nilai null pada kolom Goal yang bertipe bilangan desimal (float)"
   ]
  },
  {
   "cell_type": "markdown",
   "id": "c1a09c35-5415-4f72-874f-c5dad465457f",
   "metadata": {},
   "source": [
    "### Metode Median"
   ]
  },
  {
   "cell_type": "code",
   "execution_count": 19,
   "id": "fbacbdbb-9197-4f8a-9dea-3f22d85eb810",
   "metadata": {},
   "outputs": [
    {
     "name": "stdout",
     "output_type": "stream",
     "text": [
      "Jumlah Nilai Null pada kolom  Goal sebelum >> 174853\n",
      "\n",
      "Jumlah Nilai Null pada kolom  Goal Setelah >> 0\n"
     ]
    }
   ],
   "source": [
    "dataset2.loc[200000:, 'Goal'] = np.nan\n",
    "\n",
    "print(\"Jumlah Nilai Null pada kolom  Goal sebelum >>\", dataset2['Goal'].isna().sum())\n",
    "\n",
    "dataset2['Goal'].fillna(dataset2['Goal'].median(), inplace=True)\n",
    "\n",
    "print(\"\\nJumlah Nilai Null pada kolom  Goal Setelah >>\", dataset2['Goal'].isna().sum())"
   ]
  },
  {
   "cell_type": "markdown",
   "id": "e65e2cc6-b49c-4025-ab28-107a3ab7a410",
   "metadata": {},
   "source": [
    "### Metode Modus"
   ]
  },
  {
   "cell_type": "code",
   "execution_count": 20,
   "id": "ca23d425-1f75-4068-8270-1f68c16175d7",
   "metadata": {},
   "outputs": [
    {
     "name": "stdout",
     "output_type": "stream",
     "text": [
      "Jumlah Nilai Null pada kolom  Goal sebelum >> 174853\n",
      "\n",
      "Jumlah Nilai Null pada kolom  Goal setelah >> 0\n"
     ]
    }
   ],
   "source": [
    "dataset2.loc[200000:, 'Goal'] = np.nan\n",
    "\n",
    "print(\"Jumlah Nilai Null pada kolom  Goal sebelum >>\", dataset2['Goal'].isna().sum())\n",
    "\n",
    "dataset2['Goal'].fillna(dataset2['Goal'].mode()[0], inplace=True)\n",
    "\n",
    "print(\"\\nJumlah Nilai Null pada kolom  Goal setelah >>\", dataset2['Goal'].isna().sum())"
   ]
  },
  {
   "cell_type": "markdown",
   "id": "5c229a09-9565-40e2-9763-3ea4e638e30c",
   "metadata": {},
   "source": [
    "### Metode Mean"
   ]
  },
  {
   "cell_type": "code",
   "execution_count": 21,
   "id": "7991a2eb-11a7-4412-b49a-b9800164558e",
   "metadata": {},
   "outputs": [
    {
     "name": "stdout",
     "output_type": "stream",
     "text": [
      "Jumlah Nilai Null pada kolom  Goal sebelum >> 174853\n",
      "\n",
      "Jumlah Nilai Null pada kolom  Goal setelah >> 0\n"
     ]
    }
   ],
   "source": [
    "dataset2.loc[200000:, 'Goal'] = np.nan\n",
    "\n",
    "print(\"Jumlah Nilai Null pada kolom  Goal sebelum >>\", dataset2['Goal'].isna().sum())\n",
    "\n",
    "dataset2['Goal'].fillna(dataset2['Goal'].mean(), inplace=True)\n",
    "\n",
    "print(\"\\nJumlah Nilai Null pada kolom  Goal setelah >>\", dataset2['Goal'].isna().sum())"
   ]
  },
  {
   "cell_type": "markdown",
   "id": "cf00583c-6d29-4a8c-b80c-c942f16c113a",
   "metadata": {},
   "source": [
    "## Mengatasi nilai null pada kolom Country yang bertipe Tulisan (String/Object)"
   ]
  },
  {
   "cell_type": "markdown",
   "id": "89f1e13f-d214-41f4-92d3-f303e447d08a",
   "metadata": {},
   "source": [
    "### Metode Modus"
   ]
  },
  {
   "cell_type": "markdown",
   "id": "c314a1c0-cb7d-4e80-9bf3-34abc4a6c47c",
   "metadata": {},
   "source": [
    "dataset2.loc[200000:, 'Country'] = np.nan\n",
    "\n",
    "print(\"Jumlah Nilai Null pada kolom  Country sebelum >>\", dataset2['Country'].isna().sum())\n",
    "\n",
    "dataset2['Country'].fillna(dataset2['Country'].mode()[0], inplace=True)\n",
    "\n",
    "print(\"\\nJumlah Nilai Null pada kolom  Country setelah >>\", dataset2['Country'].isna().sum())"
   ]
  },
  {
   "cell_type": "markdown",
   "id": "f194e5b1-37e5-4fd2-bef9-d81aa8f4fcb5",
   "metadata": {},
   "source": [
    "### Menampilkan jumlah nilai null setelah cleaning"
   ]
  },
  {
   "cell_type": "code",
   "execution_count": 23,
   "id": "086bfa2d-0668-4a95-b4ed-aee0612e192f",
   "metadata": {},
   "outputs": [
    {
     "name": "stdout",
     "output_type": "stream",
     "text": [
      "\n",
      "Jumlah nilai null pada Setiap kolom setelah cleaning : \n"
     ]
    },
    {
     "data": {
      "text/plain": [
       "ID             0\n",
       "Name           0\n",
       "Category       0\n",
       "Subcategory    0\n",
       "Country        0\n",
       "Launched       0\n",
       "Deadline       0\n",
       "Goal           0\n",
       "Pledged        0\n",
       "Backers        0\n",
       "State          0\n",
       "dtype: int64"
      ]
     },
     "execution_count": 23,
     "metadata": {},
     "output_type": "execute_result"
    }
   ],
   "source": [
    "print(\"\\nJumlah nilai null pada Setiap kolom setelah cleaning : \")\n",
    "dataset2.isna().sum()"
   ]
  },
  {
   "cell_type": "markdown",
   "id": "607e00b0-62f3-4e46-b34f-fdf4fe4794f6",
   "metadata": {},
   "source": [
    "## Membuat nilai duplikasi pada dataset dan menjumlahkan banyaknya data duplicat pada Data set"
   ]
  },
  {
   "cell_type": "code",
   "execution_count": 24,
   "id": "2b21f423-f0a5-4d0f-b6df-4e821538f4e0",
   "metadata": {},
   "outputs": [
    {
     "data": {
      "text/plain": [
       "4"
      ]
     },
     "execution_count": 24,
     "metadata": {},
     "output_type": "execute_result"
    }
   ],
   "source": [
    "dataset2.iloc[1000, :] = dataset2.iloc[1001, :]\n",
    "dataset2.iloc[2000, :] = dataset2.iloc[2001, :]\n",
    "dataset2.iloc[3000, :] = dataset2.iloc[3001, :]\n",
    "dataset2.iloc[4000, :] = dataset2.iloc[4001, :]\n",
    "dataset2.duplicated().sum()"
   ]
  },
  {
   "cell_type": "markdown",
   "id": "5fcf71c0-32fc-4490-bf68-05aef82d125d",
   "metadata": {},
   "source": [
    "## Mengatasi nilai Duplicate dengan menggunakan => (\"drop_duplicate\"), dan menghitung ulang banyaknya jumlah data duplikasi di dalam dataset"
   ]
  },
  {
   "cell_type": "code",
   "execution_count": 25,
   "id": "e4a40861-deb6-4c48-ac28-f156c4f92be2",
   "metadata": {},
   "outputs": [
    {
     "data": {
      "text/plain": [
       "0"
      ]
     },
     "execution_count": 25,
     "metadata": {},
     "output_type": "execute_result"
    }
   ],
   "source": [
    "dataset2.drop_duplicates(inplace=True)\n",
    "dataset2.duplicated().sum()"
   ]
  },
  {
   "cell_type": "markdown",
   "id": "64aea5a5-56e6-4941-8622-b0f00edd6b18",
   "metadata": {},
   "source": [
    "## Mengganti tipe data pada slah satu attribute angka"
   ]
  },
  {
   "cell_type": "markdown",
   "id": "5a4cb28a-08c8-4a0e-88e2-382143c6978e",
   "metadata": {},
   "source": [
    "### Merubah tipe data kolom Backers dari float64 => int64"
   ]
  },
  {
   "cell_type": "markdown",
   "id": "c899ea16-34b2-46e7-9976-48f87f1382ad",
   "metadata": {},
   "source": [
    "### menampilkan tipe data kolom Backers sebelum dirubah"
   ]
  },
  {
   "cell_type": "code",
   "execution_count": 29,
   "id": "04230cb1-04b4-496e-9a34-ddb443168b33",
   "metadata": {},
   "outputs": [
    {
     "name": "stdout",
     "output_type": "stream",
     "text": [
      "Tipe data kolom 'Pledged' sebelum dirubah =>  float64\n"
     ]
    }
   ],
   "source": [
    "print(\"Tipe data kolom 'Backers' sebelum dirubah => \", dataset2['Backers'].dtypes )"
   ]
  },
  {
   "cell_type": "markdown",
   "id": "ce60d550-ad63-440b-9e0c-345ecac0e27b",
   "metadata": {},
   "source": [
    "### 1. merubah tipe data Kolom Bckers dari float 64 => int 64 menggunakan metode astype\n",
    "### 2. menampilkan tipe data kolom Backers setelah dirubah"
   ]
  },
  {
   "cell_type": "code",
   "execution_count": 30,
   "id": "2a6ba6f9-2ec4-486a-b32c-db2c34e2b0f7",
   "metadata": {},
   "outputs": [
    {
     "name": "stdout",
     "output_type": "stream",
     "text": [
      "Tipe data kolom 'Backers' setelah dirubah =>  int64\n"
     ]
    }
   ],
   "source": [
    "dataset2['Backers'] = dataset2['Backers'].astype('int64')\n",
    "print(\"Tipe data kolom 'Backers' setelah dirubah => \", dataset2['Backers'].dtypes )"
   ]
  },
  {
   "cell_type": "markdown",
   "id": "d2ecbb3a-5caf-462b-a528-0b36d2074461",
   "metadata": {},
   "source": [
    "### Menampilkan seluruh tipe data kolom dari dataset untuk mengecek apakah tipe data kolom yang dirubah tadi benar2 berubah"
   ]
  },
  {
   "cell_type": "code",
   "execution_count": 32,
   "id": "8dcdd422-e315-4314-a490-4149946f2686",
   "metadata": {},
   "outputs": [
    {
     "name": "stdout",
     "output_type": "stream",
     "text": [
      "<class 'pandas.core.frame.DataFrame'>\n",
      "Int64Index: 374849 entries, 0 to 374852\n",
      "Data columns (total 11 columns):\n",
      " #   Column       Non-Null Count   Dtype  \n",
      "---  ------       --------------   -----  \n",
      " 0   ID           374849 non-null  int64  \n",
      " 1   Name         374849 non-null  object \n",
      " 2   Category     374849 non-null  object \n",
      " 3   Subcategory  374849 non-null  object \n",
      " 4   Country      374849 non-null  object \n",
      " 5   Launched     374849 non-null  object \n",
      " 6   Deadline     374849 non-null  object \n",
      " 7   Goal         374849 non-null  float64\n",
      " 8   Pledged      374849 non-null  int64  \n",
      " 9   Backers      374849 non-null  int64  \n",
      " 10  State        374849 non-null  object \n",
      "dtypes: float64(1), int64(3), object(7)\n",
      "memory usage: 34.3+ MB\n"
     ]
    }
   ],
   "source": [
    "dataset2.info()"
   ]
  },
  {
   "cell_type": "markdown",
   "id": "819ab9cb-a3b8-4b77-9e00-5e31d8cc023f",
   "metadata": {},
   "source": [
    "# Encoding"
   ]
  },
  {
   "cell_type": "markdown",
   "id": "91589581-16d6-44e2-8e9d-fa21eb6357f7",
   "metadata": {},
   "source": [
    "## encoding data dri kolom Country, dan merubah tipe datanya menjadi 1nt64 supaya bisa menghasilkan angka, kemudian menggunakan drop untuk melihat keseluruhan isi dari kolom yang nilainya lebih dari 2 "
   ]
  },
  {
   "cell_type": "code",
   "execution_count": 36,
   "id": "176c24fe-747a-4dc4-b669-8d3a5bac78c7",
   "metadata": {},
   "outputs": [],
   "source": [
    "encoding = pd.get_dummies(df[['Country']])\n",
    "dataset5 = df.join(encoding.astype('int64'))\n",
    "\n",
    "dataset5.drop('Country', axis=1, inplace=True)"
   ]
  },
  {
   "cell_type": "markdown",
   "id": "8b0118d5-c834-42fc-a59f-594150501990",
   "metadata": {},
   "source": [
    "## Menampilkan per row dari jumlah kolom yang di encoding tadi"
   ]
  },
  {
   "cell_type": "code",
   "execution_count": 38,
   "id": "b6ddea88-a15a-4632-891e-5ec41b53595a",
   "metadata": {},
   "outputs": [
    {
     "data": {
      "text/html": [
       "<div>\n",
       "<style scoped>\n",
       "    .dataframe tbody tr th:only-of-type {\n",
       "        vertical-align: middle;\n",
       "    }\n",
       "\n",
       "    .dataframe tbody tr th {\n",
       "        vertical-align: top;\n",
       "    }\n",
       "\n",
       "    .dataframe thead th {\n",
       "        text-align: right;\n",
       "    }\n",
       "</style>\n",
       "<table border=\"1\" class=\"dataframe\">\n",
       "  <thead>\n",
       "    <tr style=\"text-align: right;\">\n",
       "      <th></th>\n",
       "      <th>ID</th>\n",
       "      <th>Name</th>\n",
       "      <th>Category</th>\n",
       "      <th>Subcategory</th>\n",
       "      <th>Launched</th>\n",
       "      <th>Deadline</th>\n",
       "      <th>Goal</th>\n",
       "      <th>Pledged</th>\n",
       "      <th>Backers</th>\n",
       "      <th>State</th>\n",
       "      <th>...</th>\n",
       "      <th>Country_Mexico</th>\n",
       "      <th>Country_Netherlands</th>\n",
       "      <th>Country_New Zealand</th>\n",
       "      <th>Country_Norway</th>\n",
       "      <th>Country_Singapore</th>\n",
       "      <th>Country_Spain</th>\n",
       "      <th>Country_Sweden</th>\n",
       "      <th>Country_Switzerland</th>\n",
       "      <th>Country_United Kingdom</th>\n",
       "      <th>Country_United States</th>\n",
       "    </tr>\n",
       "  </thead>\n",
       "  <tbody>\n",
       "    <tr>\n",
       "      <th>0</th>\n",
       "      <td>1860890148</td>\n",
       "      <td>Grace Jones Does Not Give A F$#% T-Shirt (limi...</td>\n",
       "      <td>Fashion</td>\n",
       "      <td>Fashion</td>\n",
       "      <td>2009-04-21 21:02:48</td>\n",
       "      <td>2009-05-31</td>\n",
       "      <td>1000</td>\n",
       "      <td>625</td>\n",
       "      <td>30</td>\n",
       "      <td>Failed</td>\n",
       "      <td>...</td>\n",
       "      <td>0</td>\n",
       "      <td>0</td>\n",
       "      <td>0</td>\n",
       "      <td>0</td>\n",
       "      <td>0</td>\n",
       "      <td>0</td>\n",
       "      <td>0</td>\n",
       "      <td>0</td>\n",
       "      <td>0</td>\n",
       "      <td>1</td>\n",
       "    </tr>\n",
       "    <tr>\n",
       "      <th>1</th>\n",
       "      <td>709707365</td>\n",
       "      <td>CRYSTAL ANTLERS UNTITLED MOVIE</td>\n",
       "      <td>Film &amp; Video</td>\n",
       "      <td>Shorts</td>\n",
       "      <td>2009-04-23 00:07:53</td>\n",
       "      <td>2009-07-20</td>\n",
       "      <td>80000</td>\n",
       "      <td>22</td>\n",
       "      <td>3</td>\n",
       "      <td>Failed</td>\n",
       "      <td>...</td>\n",
       "      <td>0</td>\n",
       "      <td>0</td>\n",
       "      <td>0</td>\n",
       "      <td>0</td>\n",
       "      <td>0</td>\n",
       "      <td>0</td>\n",
       "      <td>0</td>\n",
       "      <td>0</td>\n",
       "      <td>0</td>\n",
       "      <td>1</td>\n",
       "    </tr>\n",
       "    <tr>\n",
       "      <th>2</th>\n",
       "      <td>1703704063</td>\n",
       "      <td>drawing for dollars</td>\n",
       "      <td>Art</td>\n",
       "      <td>Illustration</td>\n",
       "      <td>2009-04-24 21:52:03</td>\n",
       "      <td>2009-05-03</td>\n",
       "      <td>20</td>\n",
       "      <td>35</td>\n",
       "      <td>3</td>\n",
       "      <td>Successful</td>\n",
       "      <td>...</td>\n",
       "      <td>0</td>\n",
       "      <td>0</td>\n",
       "      <td>0</td>\n",
       "      <td>0</td>\n",
       "      <td>0</td>\n",
       "      <td>0</td>\n",
       "      <td>0</td>\n",
       "      <td>0</td>\n",
       "      <td>0</td>\n",
       "      <td>1</td>\n",
       "    </tr>\n",
       "    <tr>\n",
       "      <th>3</th>\n",
       "      <td>727286</td>\n",
       "      <td>Offline Wikipedia iPhone app</td>\n",
       "      <td>Technology</td>\n",
       "      <td>Software</td>\n",
       "      <td>2009-04-25 17:36:21</td>\n",
       "      <td>2009-07-14</td>\n",
       "      <td>99</td>\n",
       "      <td>145</td>\n",
       "      <td>25</td>\n",
       "      <td>Successful</td>\n",
       "      <td>...</td>\n",
       "      <td>0</td>\n",
       "      <td>0</td>\n",
       "      <td>0</td>\n",
       "      <td>0</td>\n",
       "      <td>0</td>\n",
       "      <td>0</td>\n",
       "      <td>0</td>\n",
       "      <td>0</td>\n",
       "      <td>0</td>\n",
       "      <td>1</td>\n",
       "    </tr>\n",
       "    <tr>\n",
       "      <th>4</th>\n",
       "      <td>1622952265</td>\n",
       "      <td>Pantshirts</td>\n",
       "      <td>Fashion</td>\n",
       "      <td>Fashion</td>\n",
       "      <td>2009-04-27 14:10:39</td>\n",
       "      <td>2009-05-26</td>\n",
       "      <td>1900</td>\n",
       "      <td>387</td>\n",
       "      <td>10</td>\n",
       "      <td>Failed</td>\n",
       "      <td>...</td>\n",
       "      <td>0</td>\n",
       "      <td>0</td>\n",
       "      <td>0</td>\n",
       "      <td>0</td>\n",
       "      <td>0</td>\n",
       "      <td>0</td>\n",
       "      <td>0</td>\n",
       "      <td>0</td>\n",
       "      <td>0</td>\n",
       "      <td>1</td>\n",
       "    </tr>\n",
       "    <tr>\n",
       "      <th>...</th>\n",
       "      <td>...</td>\n",
       "      <td>...</td>\n",
       "      <td>...</td>\n",
       "      <td>...</td>\n",
       "      <td>...</td>\n",
       "      <td>...</td>\n",
       "      <td>...</td>\n",
       "      <td>...</td>\n",
       "      <td>...</td>\n",
       "      <td>...</td>\n",
       "      <td>...</td>\n",
       "      <td>...</td>\n",
       "      <td>...</td>\n",
       "      <td>...</td>\n",
       "      <td>...</td>\n",
       "      <td>...</td>\n",
       "      <td>...</td>\n",
       "      <td>...</td>\n",
       "      <td>...</td>\n",
       "      <td>...</td>\n",
       "      <td>...</td>\n",
       "    </tr>\n",
       "    <tr>\n",
       "      <th>374848</th>\n",
       "      <td>1486845240</td>\n",
       "      <td>Americas Got Talent - Serious MAK</td>\n",
       "      <td>Music</td>\n",
       "      <td>Hip-Hop</td>\n",
       "      <td>2018-01-02 14:13:09</td>\n",
       "      <td>2018-01-16</td>\n",
       "      <td>500</td>\n",
       "      <td>0</td>\n",
       "      <td>0</td>\n",
       "      <td>Live</td>\n",
       "      <td>...</td>\n",
       "      <td>0</td>\n",
       "      <td>0</td>\n",
       "      <td>0</td>\n",
       "      <td>0</td>\n",
       "      <td>0</td>\n",
       "      <td>0</td>\n",
       "      <td>0</td>\n",
       "      <td>0</td>\n",
       "      <td>0</td>\n",
       "      <td>1</td>\n",
       "    </tr>\n",
       "    <tr>\n",
       "      <th>374849</th>\n",
       "      <td>974738310</td>\n",
       "      <td>EVO Planner: The World's First Personalized Fl...</td>\n",
       "      <td>Design</td>\n",
       "      <td>Product Design</td>\n",
       "      <td>2018-01-02 14:15:38</td>\n",
       "      <td>2018-02-09</td>\n",
       "      <td>15000</td>\n",
       "      <td>269</td>\n",
       "      <td>8</td>\n",
       "      <td>Live</td>\n",
       "      <td>...</td>\n",
       "      <td>0</td>\n",
       "      <td>0</td>\n",
       "      <td>0</td>\n",
       "      <td>0</td>\n",
       "      <td>0</td>\n",
       "      <td>0</td>\n",
       "      <td>0</td>\n",
       "      <td>0</td>\n",
       "      <td>0</td>\n",
       "      <td>1</td>\n",
       "    </tr>\n",
       "    <tr>\n",
       "      <th>374850</th>\n",
       "      <td>2106246194</td>\n",
       "      <td>Help save La Gattara, Arizona's first Cat Cafe!</td>\n",
       "      <td>Food</td>\n",
       "      <td>Food</td>\n",
       "      <td>2018-01-02 14:17:46</td>\n",
       "      <td>2018-01-16</td>\n",
       "      <td>10000</td>\n",
       "      <td>165</td>\n",
       "      <td>3</td>\n",
       "      <td>Live</td>\n",
       "      <td>...</td>\n",
       "      <td>0</td>\n",
       "      <td>0</td>\n",
       "      <td>0</td>\n",
       "      <td>0</td>\n",
       "      <td>0</td>\n",
       "      <td>0</td>\n",
       "      <td>0</td>\n",
       "      <td>0</td>\n",
       "      <td>0</td>\n",
       "      <td>1</td>\n",
       "    </tr>\n",
       "    <tr>\n",
       "      <th>374851</th>\n",
       "      <td>1830173355</td>\n",
       "      <td>Digital Dagger Coin</td>\n",
       "      <td>Art</td>\n",
       "      <td>Art</td>\n",
       "      <td>2018-01-02 14:38:17</td>\n",
       "      <td>2018-02-01</td>\n",
       "      <td>650</td>\n",
       "      <td>7</td>\n",
       "      <td>1</td>\n",
       "      <td>Live</td>\n",
       "      <td>...</td>\n",
       "      <td>0</td>\n",
       "      <td>0</td>\n",
       "      <td>0</td>\n",
       "      <td>0</td>\n",
       "      <td>0</td>\n",
       "      <td>0</td>\n",
       "      <td>0</td>\n",
       "      <td>0</td>\n",
       "      <td>0</td>\n",
       "      <td>1</td>\n",
       "    </tr>\n",
       "    <tr>\n",
       "      <th>374852</th>\n",
       "      <td>1339173863</td>\n",
       "      <td>Spirits of the Forest</td>\n",
       "      <td>Games</td>\n",
       "      <td>Tabletop Games</td>\n",
       "      <td>2018-01-02 15:02:31</td>\n",
       "      <td>2018-01-26</td>\n",
       "      <td>24274</td>\n",
       "      <td>4483</td>\n",
       "      <td>82</td>\n",
       "      <td>Live</td>\n",
       "      <td>...</td>\n",
       "      <td>0</td>\n",
       "      <td>0</td>\n",
       "      <td>0</td>\n",
       "      <td>0</td>\n",
       "      <td>0</td>\n",
       "      <td>1</td>\n",
       "      <td>0</td>\n",
       "      <td>0</td>\n",
       "      <td>0</td>\n",
       "      <td>0</td>\n",
       "    </tr>\n",
       "  </tbody>\n",
       "</table>\n",
       "<p>374853 rows × 32 columns</p>\n",
       "</div>"
      ],
      "text/plain": [
       "                ID                                               Name  \\\n",
       "0       1860890148  Grace Jones Does Not Give A F$#% T-Shirt (limi...   \n",
       "1        709707365                     CRYSTAL ANTLERS UNTITLED MOVIE   \n",
       "2       1703704063                                drawing for dollars   \n",
       "3           727286                       Offline Wikipedia iPhone app   \n",
       "4       1622952265                                         Pantshirts   \n",
       "...            ...                                                ...   \n",
       "374848  1486845240                  Americas Got Talent - Serious MAK   \n",
       "374849   974738310  EVO Planner: The World's First Personalized Fl...   \n",
       "374850  2106246194    Help save La Gattara, Arizona's first Cat Cafe!   \n",
       "374851  1830173355                                Digital Dagger Coin   \n",
       "374852  1339173863                              Spirits of the Forest   \n",
       "\n",
       "            Category     Subcategory             Launched    Deadline   Goal  \\\n",
       "0            Fashion         Fashion  2009-04-21 21:02:48  2009-05-31   1000   \n",
       "1       Film & Video          Shorts  2009-04-23 00:07:53  2009-07-20  80000   \n",
       "2                Art    Illustration  2009-04-24 21:52:03  2009-05-03     20   \n",
       "3         Technology        Software  2009-04-25 17:36:21  2009-07-14     99   \n",
       "4            Fashion         Fashion  2009-04-27 14:10:39  2009-05-26   1900   \n",
       "...              ...             ...                  ...         ...    ...   \n",
       "374848         Music         Hip-Hop  2018-01-02 14:13:09  2018-01-16    500   \n",
       "374849        Design  Product Design  2018-01-02 14:15:38  2018-02-09  15000   \n",
       "374850          Food            Food  2018-01-02 14:17:46  2018-01-16  10000   \n",
       "374851           Art             Art  2018-01-02 14:38:17  2018-02-01    650   \n",
       "374852         Games  Tabletop Games  2018-01-02 15:02:31  2018-01-26  24274   \n",
       "\n",
       "        Pledged  Backers       State  ...  Country_Mexico  \\\n",
       "0           625       30      Failed  ...               0   \n",
       "1            22        3      Failed  ...               0   \n",
       "2            35        3  Successful  ...               0   \n",
       "3           145       25  Successful  ...               0   \n",
       "4           387       10      Failed  ...               0   \n",
       "...         ...      ...         ...  ...             ...   \n",
       "374848        0        0        Live  ...               0   \n",
       "374849      269        8        Live  ...               0   \n",
       "374850      165        3        Live  ...               0   \n",
       "374851        7        1        Live  ...               0   \n",
       "374852     4483       82        Live  ...               0   \n",
       "\n",
       "        Country_Netherlands   Country_New Zealand  Country_Norway  \\\n",
       "0                          0                    0               0   \n",
       "1                          0                    0               0   \n",
       "2                          0                    0               0   \n",
       "3                          0                    0               0   \n",
       "4                          0                    0               0   \n",
       "...                      ...                  ...             ...   \n",
       "374848                     0                    0               0   \n",
       "374849                     0                    0               0   \n",
       "374850                     0                    0               0   \n",
       "374851                     0                    0               0   \n",
       "374852                     0                    0               0   \n",
       "\n",
       "        Country_Singapore  Country_Spain  Country_Sweden  Country_Switzerland  \\\n",
       "0                       0              0               0                    0   \n",
       "1                       0              0               0                    0   \n",
       "2                       0              0               0                    0   \n",
       "3                       0              0               0                    0   \n",
       "4                       0              0               0                    0   \n",
       "...                   ...            ...             ...                  ...   \n",
       "374848                  0              0               0                    0   \n",
       "374849                  0              0               0                    0   \n",
       "374850                  0              0               0                    0   \n",
       "374851                  0              0               0                    0   \n",
       "374852                  0              1               0                    0   \n",
       "\n",
       "        Country_United Kingdom  Country_United States  \n",
       "0                            0                      1  \n",
       "1                            0                      1  \n",
       "2                            0                      1  \n",
       "3                            0                      1  \n",
       "4                            0                      1  \n",
       "...                        ...                    ...  \n",
       "374848                       0                      1  \n",
       "374849                       0                      1  \n",
       "374850                       0                      1  \n",
       "374851                       0                      1  \n",
       "374852                       0                      0  \n",
       "\n",
       "[374853 rows x 32 columns]"
      ]
     },
     "execution_count": 38,
     "metadata": {},
     "output_type": "execute_result"
    }
   ],
   "source": [
    "dataset5"
   ]
  }
 ],
 "metadata": {
  "kernelspec": {
   "display_name": "Rhesa_105",
   "language": "python",
   "name": "rhesa_105"
  },
  "language_info": {
   "codemirror_mode": {
    "name": "ipython",
    "version": 3
   },
   "file_extension": ".py",
   "mimetype": "text/x-python",
   "name": "python",
   "nbconvert_exporter": "python",
   "pygments_lexer": "ipython3",
   "version": "3.10.7"
  }
 },
 "nbformat": 4,
 "nbformat_minor": 5
}
